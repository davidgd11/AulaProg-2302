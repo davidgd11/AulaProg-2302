{
 "cells": [
  {
   "cell_type": "code",
   "execution_count": 12,
   "metadata": {},
   "outputs": [
    {
     "name": "stdout",
     "output_type": "stream",
     "text": [
      "[1, 2, 3, 4, 5, 6, 7, 8, 9, 10]\n"
     ]
    }
   ],
   "source": [
    "#Exercicio 1\n",
    "lista = list(range(1,11))\n",
    "print(lista)"
   ]
  },
  {
   "cell_type": "code",
   "execution_count": 13,
   "metadata": {},
   "outputs": [
    {
     "name": "stdout",
     "output_type": "stream",
     "text": [
      "[2, 4, 6, 8, 10]\n"
     ]
    }
   ],
   "source": [
    "#Exercicio 2\n",
    "lista = []\n",
    "for i in range(1,11):\n",
    "    if i %2 == 0:\n",
    "        lista.append(i)\n",
    "print(lista)"
   ]
  },
  {
   "cell_type": "code",
   "execution_count": 21,
   "metadata": {},
   "outputs": [
    {
     "name": "stdout",
     "output_type": "stream",
     "text": [
      "63\n"
     ]
    }
   ],
   "source": [
    "#Exercicio 3 \n",
    "numeros = ([5,63,10,20,32,47])\n",
    "maior = (max(numeros))\n",
    "print(maior)"
   ]
  },
  {
   "cell_type": "code",
   "execution_count": 15,
   "metadata": {},
   "outputs": [
    {
     "name": "stdout",
     "output_type": "stream",
     "text": [
      "['OLA', 'BOA TARDE', 'BOM DIA']\n"
     ]
    }
   ],
   "source": [
    "#Exercicio 4 \n",
    "lista_palavras = ([\"ola\" , \"boa tarde\" , \"bom dia\"])\n",
    "lista_palavras_maiusculas = [palavra.upper() for palavra in lista_palavras]\n",
    "print(lista_palavras_maiusculas)"
   ]
  },
  {
   "cell_type": "code",
   "execution_count": 22,
   "metadata": {},
   "outputs": [
    {
     "name": "stdout",
     "output_type": "stream",
     "text": [
      "30\n"
     ]
    }
   ],
   "source": [
    "#Exercicio 5\n",
    "numeros = ([2,4,6,8,10])\n",
    "soma = sum(numeros)\n",
    "print(soma)"
   ]
  },
  {
   "cell_type": "code",
   "execution_count": 34,
   "metadata": {},
   "outputs": [
    {
     "name": "stdout",
     "output_type": "stream",
     "text": [
      "Elemento não encontrado na posição -1\n"
     ]
    }
   ],
   "source": [
    "#Funcao para buscar linear \n",
    "def busca_linear(array, n, x):\n",
    "    for i in range(0, n):\n",
    "        if array[i] == x:\n",
    "            return i\n",
    "    return -1\n",
    "    \n",
    "array = [2, 4, 0, 1, 9]\n",
    "n = len(array)\n",
    "x = 1\n",
    "\n",
    "resultado = busca_linear(array, n, x)\n",
    "\n",
    "if resultado  != -1:\n",
    "    print(\"O resultado encontrado\", resultado)\n",
    "else:\n",
    "    print(\"Elemento não encontrado na posição\", resultado)"
   ]
  }
 ],
 "metadata": {
  "kernelspec": {
   "display_name": "Python 3",
   "language": "python",
   "name": "python3"
  },
  "language_info": {
   "codemirror_mode": {
    "name": "ipython",
    "version": 3
   },
   "file_extension": ".py",
   "mimetype": "text/x-python",
   "name": "python",
   "nbconvert_exporter": "python",
   "pygments_lexer": "ipython3",
   "version": "3.11.4"
  },
  "orig_nbformat": 4
 },
 "nbformat": 4,
 "nbformat_minor": 2
}
